{
  "nbformat": 4,
  "nbformat_minor": 0,
  "metadata": {
    "colab": {
      "provenance": []
    },
    "kernelspec": {
      "name": "python3",
      "display_name": "Python 3"
    },
    "language_info": {
      "name": "python"
    }
  },
  "cells": [
    {
      "cell_type": "markdown",
      "source": [
        "### Stack using array"
      ],
      "metadata": {
        "id": "VCYzUJLczn5d"
      }
    },
    {
      "cell_type": "code",
      "source": [
        "import array as arr\n",
        "\n",
        "class stack:\n",
        "  def __init__(self):\n",
        "    self.items = arr.array('i')\n",
        "    self.top = -1\n",
        "\n",
        "  def is_empty(self):\n",
        "    return self.top == -1\n",
        "\n",
        "  def push(self, item):\n",
        "    self.items.append(item)\n",
        "    self.top += 1\n",
        "    print(f\"{item} pushed to stack\")\n",
        "\n",
        "  def pop(self):\n",
        "    if self.is_empty():\n",
        "      print(\"Stack is empty\")\n",
        "    else:\n",
        "      item = self.items[self.top]\n",
        "      self.items.pop()\n",
        "      self.top -= 1\n",
        "      print(f\"{item} popped from stack\")\n",
        "      return item\n",
        "\n",
        "  def peek (self):\n",
        "      if self.is_empty():\n",
        "        print(\"Stack is empty\")\n",
        "        return None\n",
        "      else:\n",
        "        return self.items[self.top]\n",
        "\n",
        "  def size(self):\n",
        "        return len(self.items)\n",
        "\n",
        "  def display(self):\n",
        "        if self.is_empty():\n",
        "          print(\"Stack is empty\")\n",
        "        else:\n",
        "          print(\"Stack contents:\")\n",
        "          for item in reversed(self.items):\n",
        "            print(item)\n",
        "\n",
        "s1 = stack()\n",
        "\n",
        "s1.push(10)\n",
        "s1.push(20)\n",
        "s1.push(30)\n",
        "\n",
        "s1.pop()\n",
        "\n",
        "s1.display()"
      ],
      "metadata": {
        "colab": {
          "base_uri": "https://localhost:8080/"
        },
        "id": "ilwrl3YXztWH",
        "outputId": "a4538995-b1af-418f-c340-86466792ce9f"
      },
      "execution_count": null,
      "outputs": [
        {
          "output_type": "stream",
          "name": "stdout",
          "text": [
            "10 pushed to stack\n",
            "20 pushed to stack\n",
            "30 pushed to stack\n",
            "30 popped from stack\n",
            "Stack contents:\n",
            "20\n",
            "10\n"
          ]
        }
      ]
    },
    {
      "cell_type": "markdown",
      "source": [
        "## Stack Using List"
      ],
      "metadata": {
        "id": "WCMwXp9N8PLB"
      }
    },
    {
      "cell_type": "code",
      "source": [
        "class stack:\n",
        "  def __init__(self):\n",
        "    self.items = []\n",
        "\n",
        "  def is_empty(self):\n",
        "    return self.items == []\n",
        "\n",
        "  def push(self, item):\n",
        "    self.items.append(item)\n",
        "    print(f\"{item} pushed to stack\")\n",
        "\n",
        "  def pop(self):\n",
        "    return self.items.pop()\n",
        "\n",
        "  def peek(self):\n",
        "    return self.items[-1]\n",
        "\n",
        "  def size(self):\n",
        "    return len(self.items)\n",
        "\n",
        "  def display(self):\n",
        "    for i in range(len(self.items) -1, -1, -1):\n",
        "      print(self.item[i])"
      ],
      "metadata": {
        "id": "z5hnhmFF8TI3"
      },
      "execution_count": null,
      "outputs": []
    },
    {
      "cell_type": "markdown",
      "source": [
        "##Queue:\n"
      ],
      "metadata": {
        "id": "ubKKAK1wRWPu"
      }
    },
    {
      "cell_type": "code",
      "source": [
        "class Queue:\n",
        "  def __init__(self):\n",
        "    self.items = []\n",
        "\n",
        "  def isEmpty(self):\n",
        "    return self.items == []\n",
        "\n",
        "  def enqueue(self, item):\n",
        "    self.items.insert(0, item)\n",
        "\n",
        "  def dequeue(self):\n",
        "    return self.items.pop()\n",
        "\n",
        "  def size(self):\n",
        "    return len(self.items)\n",
        "\n",
        "  def display(self):\n",
        "    for i in range(len(self.items)):\n",
        "      print(self.items[i])\n",
        "\n",
        "q1 = Queue()\n",
        "\n",
        "q1.enqueue(10)\n",
        "q1.enqueue(20)\n",
        "q1.enqueue(30)\n",
        "\n",
        "q1.display()\n",
        "print(\"\\n\")\n",
        "q1.dequeue()\n",
        "print(\"\\n\")\n",
        "q1.display()"
      ],
      "metadata": {
        "colab": {
          "base_uri": "https://localhost:8080/"
        },
        "id": "NSAuhbLwRaEE",
        "outputId": "51a6d360-fcb0-449c-cbd7-a134bf26fa24"
      },
      "execution_count": null,
      "outputs": [
        {
          "output_type": "stream",
          "name": "stdout",
          "text": [
            "30\n",
            "20\n",
            "10\n",
            "\n",
            "\n",
            "\n",
            "\n",
            "30\n",
            "20\n"
          ]
        }
      ]
    },
    {
      "cell_type": "markdown",
      "source": [
        "##Hot potato"
      ],
      "metadata": {
        "id": "CDvGqWklStAz"
      }
    },
    {
      "cell_type": "code",
      "source": [
        "def hotpotato(namelist, num):\n",
        "  simqueue = Queue()\n",
        "\n",
        "  for name in namelist:\n",
        "    simqueue.enqeueu(name)\n",
        "\n",
        "  while simqueue.size() > 1:\n",
        "    for i in range(num):\n",
        "      simqueue.enqueue(simqueue.dequeue())\n",
        "\n",
        "    simqueue.dequeue()\n",
        "\n",
        "  return simqueue.dequeue()"
      ],
      "metadata": {
        "id": "jbjnl5GhVXYE"
      },
      "execution_count": null,
      "outputs": []
    },
    {
      "cell_type": "markdown",
      "source": [
        "##Deque\n"
      ],
      "metadata": {
        "id": "y7yz6WcJYOAj"
      }
    },
    {
      "cell_type": "code",
      "source": [
        "class Deque:\n",
        "  def __init__(self):\n",
        "    self.items = []\n",
        "\n",
        "  def isEmpty(self):\n",
        "    return self.items == []\n",
        "\n",
        "  def addFront(self, item):\n",
        "    self.items.insert(0,item)\n",
        "\n",
        "  def addRear(self, item):\n",
        "    self.items.append(item)\n",
        "\n",
        "  def removeFront(self):\n",
        "    return self.items.pop(0)\n",
        "\n",
        "  def removeRear(self):\n",
        "    return self.items.pop()\n",
        "\n",
        "  def size(self):\n",
        "    return self.items.pop()\n",
        "\n",
        "  def display(self):\n",
        "    for i in range(len(self.items)):\n",
        "      print(self.items[i])\n",
        "\n",
        "dq1 = Deque()\n",
        "dq1.addFront(10)\n",
        "dq1.addRear(20)\n",
        "dq1.addRear(30)\n",
        "dq1.addFront(40)\n",
        "\n",
        "dq1.size()\n",
        "dq1.display()\n"
      ],
      "metadata": {
        "colab": {
          "base_uri": "https://localhost:8080/"
        },
        "id": "GRsk1Ob2YRWe",
        "outputId": "e701f936-4f98-4767-b40b-34bd85f626ba"
      },
      "execution_count": null,
      "outputs": [
        {
          "output_type": "stream",
          "name": "stdout",
          "text": [
            "40\n",
            "10\n",
            "20\n"
          ]
        }
      ]
    },
    {
      "cell_type": "markdown",
      "source": [
        "##Linked List\n"
      ],
      "metadata": {
        "id": "JY-3y9VKcequ"
      }
    },
    {
      "cell_type": "code",
      "source": [
        "#node class\n",
        "class Node:\n",
        "  def __init__(self, data):\n",
        "    self.data = data\n",
        "    self.next = None\n",
        "\n",
        "  def getData(self):\n",
        "    return self.__data\n",
        "\n",
        "  def geNext(self):\n",
        "    return self.__next\n",
        "\n",
        "  def setData(self, data):\n",
        "    self.__data = data\n",
        "\n",
        "  def setNext(self, next):\n",
        "    self.__next = next\n",
        "\n",
        "#linked list class\n",
        "class LinkedList:\n",
        "  def __init__(self):\n",
        "    self.head = None\n",
        "\n",
        "  def isEmpty(self):\n",
        "    return self.start == None\n",
        "\n",
        "  def addBeginnning(self, item)\n",
        "    temp = Node(item)\n",
        "    temp.setNext(self.start)\n",
        "    self.start = temp\n",
        "\n",
        "  def addBeginning(self,item):\n",
        "    temp = Node(item)\n",
        "    temp.setNext(self.start)\n",
        "    self.start = temp\n",
        "\n",
        "  def addEnd(self,item):\n",
        "    temp = Node(item)\n",
        "    current = self.start\n",
        "    if current = None:\n",
        "      self.start = temp\n",
        "    else:\n",
        "      while current.genNext() != None:\n",
        "        current = current.getNext()\n",
        "      current.setNext(temp)\n",
        "\n",
        "    def size(self):\n",
        "      current = self.start\n",
        "      count = 0\n",
        "      while current != None:\n",
        "        count += 1\n",
        "        current = current.getNext(0)\n",
        "      return count\n",
        "\n",
        "    def search(self, item):\n",
        "      current = self.start\n",
        "      found = False\n",
        "      while current != None and not found:\n",
        "        if current.getData() == item:\n",
        "          found = True\n",
        "        else:\n",
        "          current = current.getNext\n",
        "      return found\n",
        "\n",
        "    def remove(self, item):\n",
        "      current = self.start\n",
        "      previous = None\n",
        "      found = False\n",
        "      while not found:\n",
        "        if current.getData() == item:\n",
        "          found = True\n",
        "        else:\n",
        "          previous = current\n",
        "          current = current.getNext()\n",
        "        if previous == None:\n",
        "          self.start = current.getNext()\n",
        "        else:\n",
        "          previous.setNext(current.getNext())\n",
        "        del current\n",
        "\n"
      ],
      "metadata": {
        "id": "TzAsUfcmcgjs"
      },
      "execution_count": null,
      "outputs": []
    }
  ]
}